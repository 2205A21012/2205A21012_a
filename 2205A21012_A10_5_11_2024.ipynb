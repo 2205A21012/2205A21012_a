{
  "nbformat": 4,
  "nbformat_minor": 0,
  "metadata": {
    "colab": {
      "provenance": [],
      "authorship_tag": "ABX9TyNdjU8iyk+1Ht7IYk6px7+D",
      "include_colab_link": true
    },
    "kernelspec": {
      "name": "python3",
      "display_name": "Python 3"
    },
    "language_info": {
      "name": "python"
    }
  },
  "cells": [
    {
      "cell_type": "markdown",
      "metadata": {
        "id": "view-in-github",
        "colab_type": "text"
      },
      "source": [
        "<a href=\"https://colab.research.google.com/github/2205A21012/2205A21012_a/blob/main/2205A21012_A10_5_11_2024.ipynb\" target=\"_parent\"><img src=\"https://colab.research.google.com/assets/colab-badge.svg\" alt=\"Open In Colab\"/></a>"
      ]
    },
    {
      "cell_type": "code",
      "execution_count": null,
      "metadata": {
        "colab": {
          "base_uri": "https://localhost:8080/"
        },
        "id": "Myo6FNLms0uZ",
        "outputId": "e5bb45c6-a789-4dc2-d131-721fcdc7ca31"
      },
      "outputs": [
        {
          "output_type": "stream",
          "name": "stdout",
          "text": [
            "Enter Hall Ticket No.: 104\n",
            "Enter Semister No.: 1\n",
            "=======================\n",
            "       SR University \n",
            "        Score Card\n",
            "========================\n",
            "Roll No: 104\n",
            "Semester: 1\n",
            "Subject1: 45\n",
            "Subject2: 56\n",
            "Subject3: 67\n",
            "Subject4: 78\n",
            "Subject5: 89\n",
            "Subject6: 90\n",
            "=======================\n",
            "      Results          \n",
            "========================\n",
            "Pass\n",
            "Percentage of marks: 71.0\n",
            "=====================\n"
          ]
        }
      ],
      "source": [
        " import numpy as np\n",
        "marks =  np.array([[[101,35,98,43,65,78,96],\n",
        "                    [102,87,45,98,65,34,78],\n",
        "                    [103,45,26,78,45,67,34],\n",
        "                    [104,45,56,67,78,89,90],\n",
        "                    [105,23,34,45,56,76,87]],\n",
        "                   [[101,53,89,43,56,87,69],\n",
        "                    [102,78,54,89,56,43,87],\n",
        "                    [103,54,62,87,54,76,43],\n",
        "                    [104,35,65,76,87,98,9],\n",
        "                    [105,32,43,54,65,67,78]]])\n",
        "stud=marks.shape[1]\n",
        "sem=marks.shape[0]\n",
        "\n",
        "\n",
        "Hall_Ticket_No = int(input(\"Enter Hall Ticket No.: \"))\n",
        "semester = int(input(\"Enter Semister No.: \"))\n",
        "for i in range(sem):\n",
        "  if(semester==i+1):\n",
        "    break\n",
        "index_sem=i\n",
        "for j in range(stud):\n",
        "  if(Hall_Ticket_No==marks[index_sem,j,0]):\n",
        "    break\n",
        "index_stud=j\n",
        "marks_percentage=np.sum(marks[index_sem,index_stud,1:marks.shape[2]])*100/600\n",
        "\n",
        "count=0\n",
        "failed_sub=[]\n",
        "for i in range(1,marks.shape[2]):\n",
        "  if(marks[index_sem,index_stud,i]<40):\n",
        "    count=count+1\n",
        "    failed_sub.append(i)\n",
        "\n",
        "print(\"=======================\")\n",
        "print(\"       SR University \")\n",
        "print(\"        Score Card\"      )\n",
        "print(\"========================\")\n",
        "print(\"Roll No:\",Hall_Ticket_No)\n",
        "print('Semester:',semester)\n",
        "print(\"Subject1:\",marks[index_sem,index_stud,1])\n",
        "print(\"Subject2:\",marks[index_sem,index_stud,2])\n",
        "print(\"Subject3:\",marks[index_sem,index_stud,3])\n",
        "print(\"Subject4:\",marks[index_sem,index_stud,4])\n",
        "print(\"Subject5:\",marks[index_sem,index_stud,5])\n",
        "print(\"Subject6:\",marks[index_sem,index_stud,6])\n",
        "print(\"=======================\")\n",
        "print(\"      Results          \")\n",
        "print(\"========================\")\n",
        "if(count>0):\n",
        "  print(\"Fail\")\n",
        "  print(\"Failed Subjects:\",)\n",
        "  for i in range(len(failed_sub)):\n",
        "    if (failed_sub[i]==1):\n",
        "      print(\"Subject1\")\n",
        "    if(failed_sub[i]==2):\n",
        "      print(\"Subject2\")\n",
        "    if(failed_sub[i]==3):\n",
        "      print(\"Subject3\")\n",
        "    if(failed_sub[i]==4):\n",
        "      print(\"Subject4\")\n",
        "    if(failed_sub[i]==5):\n",
        "      print(\"Subject5\")\n",
        "    if(failed_sub[i]==6):\n",
        "      print(\"Subject6\")\n",
        "else:\n",
        "  print(\"Pass\")\n",
        "  print(\"Percentage of marks:\",np.round(marks_percentage))\n",
        "  print(\"=====================\")\n"
      ]
    }
  ]
}