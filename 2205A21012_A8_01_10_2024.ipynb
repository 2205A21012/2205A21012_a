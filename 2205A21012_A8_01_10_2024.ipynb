{
  "nbformat": 4,
  "nbformat_minor": 0,
  "metadata": {
    "colab": {
      "provenance": [],
      "authorship_tag": "ABX9TyM0XtWzay3cT7z8G9wSdVyW",
      "include_colab_link": true
    },
    "kernelspec": {
      "name": "python3",
      "display_name": "Python 3"
    },
    "language_info": {
      "name": "python"
    }
  },
  "cells": [
    {
      "cell_type": "markdown",
      "metadata": {
        "id": "view-in-github",
        "colab_type": "text"
      },
      "source": [
        "<a href=\"https://colab.research.google.com/github/2205A21012/2205A21012_a/blob/main/2205A21012_A8_01_10_2024.ipynb\" target=\"_parent\"><img src=\"https://colab.research.google.com/assets/colab-badge.svg\" alt=\"Open In Colab\"/></a>"
      ]
    },
    {
      "cell_type": "code",
      "execution_count": null,
      "metadata": {
        "colab": {
          "base_uri": "https://localhost:8080/"
        },
        "id": "C-H4z9EJot_n",
        "outputId": "573807a9-8d89-4992-f769-cc3049cacb78"
      },
      "outputs": [
        {
          "output_type": "stream",
          "name": "stdout",
          "text": [
            "Qualification= ['venkat', 'B.tech', 2006, 'M.E', 2011, 'Ph.D', 201]\n",
            "Experience= ['ssse', 2007, 'infosys', '2011', 'AITAM', '2013', 'SREC', 2018]\n",
            "CA= ['venkat', 'B.tech', 2006, 'M.E', 2011, 'Ph.D', 201, 'ssse', 2007, 'infosys', '2011', 'AITAM', '2013', 'SREC', 2018]\n"
          ]
        }
      ],
      "source": [
        "Qualification=['venkat','B.tech',2006,'M.E',2011,'Ph.D',201]\n",
        "Experience=['ssse',2007,'infosys','2011','AITAM','2013','SREC',2018]\n",
        "CA=Qualification+Experience\n",
        "print(\"Qualification=\",Qualification)\n",
        "print(\"Experience=\",Experience)\n",
        "print(\"CA=\",CA)"
      ]
    },
    {
      "cell_type": "code",
      "source": [
        "Qualification=['venkat','B.tech',2006,'M.E',2011,'Ph.D',2018]\n",
        "print(Qualification)\n",
        "print(Qualification[0])\n",
        "print(Qualification[1:])\n",
        "print(Qualification[1:5])\n",
        "print(Qualification*2)\n",
        "print(Qualification[::-1])\n"
      ],
      "metadata": {
        "colab": {
          "base_uri": "https://localhost:8080/"
        },
        "id": "2WTmP7S7qgp-",
        "outputId": "e9b6f6ec-b205-4283-a8cc-ce72b62c7198"
      },
      "execution_count": null,
      "outputs": [
        {
          "output_type": "stream",
          "name": "stdout",
          "text": [
            "['venkat', 'B.tech', 2006, 'M.E', 2011, 'Ph.D', 2018]\n",
            "venkat\n",
            "['B.tech', 2006, 'M.E', 2011, 'Ph.D', 2018]\n",
            "['B.tech', 2006, 'M.E', 2011]\n",
            "['venkat', 'B.tech', 2006, 'M.E', 2011, 'Ph.D', 2018, 'venkat', 'B.tech', 2006, 'M.E', 2011, 'Ph.D', 2018]\n",
            "[2018, 'Ph.D', 2011, 'M.E', 2006, 'B.tech', 'venkat']\n"
          ]
        }
      ]
    },
    {
      "cell_type": "code",
      "source": [
        "list=['venkat',1985]\n",
        "print('venkat birth year',list[1])\n",
        "list[0]='dev'\n",
        "list[1]=2017\n",
        "print('dev birth year',list[1])\n"
      ],
      "metadata": {
        "colab": {
          "base_uri": "https://localhost:8080/"
        },
        "id": "bXRXpbpSrHol",
        "outputId": "ae5ec6dd-fec6-400b-ef03-e46e75a4d5a3"
      },
      "execution_count": null,
      "outputs": [
        {
          "output_type": "stream",
          "name": "stdout",
          "text": [
            "venkat birth year 1985\n",
            "dev birth year 2017\n"
          ]
        }
      ]
    },
    {
      "cell_type": "code",
      "source": [
        "list=['venkat',1985]\n",
        "print(list)\n",
        "del list[1]\n",
        "print(list)\n"
      ],
      "metadata": {
        "colab": {
          "base_uri": "https://localhost:8080/"
        },
        "id": "2lxtTTNiskS6",
        "outputId": "6267534d-5a50-4b5a-e1a4-531e373eb0ac"
      },
      "execution_count": null,
      "outputs": [
        {
          "output_type": "stream",
          "name": "stdout",
          "text": [
            "['venkat', 1985]\n",
            "['venkat']\n"
          ]
        }
      ]
    },
    {
      "cell_type": "code",
      "source": [
        "name=['ramana','thanmai','dev']\n",
        "dob=[1985,2014,2017]\n",
        "print('number of peoples',len(name))\n",
        "print('================')\n",
        "details=name+dob\n",
        "print('biodata',details)\n",
        "print('================')\n",
        "repetition=name*2\n",
        "print('repetition',repetition)\n",
        "print('================')\n",
        "for x in name:\n",
        "  print(x)\n",
        "print('================')"
      ],
      "metadata": {
        "colab": {
          "base_uri": "https://localhost:8080/"
        },
        "id": "DfcxvhiWsvro",
        "outputId": "997a5df5-b6b8-46b9-9a1d-f6006d4cc5c7"
      },
      "execution_count": null,
      "outputs": [
        {
          "output_type": "stream",
          "name": "stdout",
          "text": [
            "number of peoples 3\n",
            "================\n",
            "biodata ['ramana', 'thanmai', 'dev', 1985, 2014, 2017]\n",
            "================\n",
            "repetition ['ramana', 'thanmai', 'dev', 'ramana', 'thanmai', 'dev']\n",
            "================\n",
            "ramana\n",
            "thanmai\n",
            "dev\n",
            "================\n"
          ]
        }
      ]
    },
    {
      "cell_type": "code",
      "source": [
        "name=['ramana','thanmai','dev']\n",
        "dob=[1985,2014,2017]\n",
        "print('name with maximum characters',max(name))\n",
        "print('younger person dob',max(dob))\n",
        "print('name with minimum characters',min(name))\n",
        "print('older person dob',min(dob))"
      ],
      "metadata": {
        "colab": {
          "base_uri": "https://localhost:8080/"
        },
        "id": "ggzI_6tXt3OJ",
        "outputId": "6cf0095b-5e87-4363-c8aa-a46e625b3740"
      },
      "execution_count": null,
      "outputs": [
        {
          "output_type": "stream",
          "name": "stdout",
          "text": [
            "name with maximum characters thanmai\n",
            "younger person dob 2017\n",
            "name with minimum characters dev\n",
            "older person dob 1985\n"
          ]
        }
      ]
    },
    {
      "cell_type": "code",
      "source": [
        "students=['ram','venkat']\n",
        "print(students)\n",
        "students.append('dev')\n",
        "print(students)"
      ],
      "metadata": {
        "colab": {
          "base_uri": "https://localhost:8080/"
        },
        "id": "GcXtMktDu9f0",
        "outputId": "05fd5679-5942-4419-a357-bbe33898d8ab"
      },
      "execution_count": null,
      "outputs": [
        {
          "output_type": "stream",
          "name": "stdout",
          "text": [
            "['ram', 'venkat']\n",
            "['ram', 'venkat', 'dev']\n"
          ]
        }
      ]
    },
    {
      "cell_type": "code",
      "source": [
        "grade=['A','A','B','C','A']\n",
        "print('how many peoples got A grade',grade.count('A'))\n"
      ],
      "metadata": {
        "colab": {
          "base_uri": "https://localhost:8080/"
        },
        "id": "QB7noQY8wAOw",
        "outputId": "87309bab-7763-403c-d9b8-21a8ecd9134b"
      },
      "execution_count": null,
      "outputs": [
        {
          "output_type": "stream",
          "name": "stdout",
          "text": [
            "how many peoples got A grade 3\n"
          ]
        }
      ]
    },
    {
      "cell_type": "code",
      "source": [
        "family=['venkat','swetha']\n",
        "print('family members',family)\n",
        "atuple=('dev','thanmai')\n",
        "family.extend(atuple)\n",
        "print('family members',family)"
      ],
      "metadata": {
        "colab": {
          "base_uri": "https://localhost:8080/"
        },
        "id": "Fg5ec2SVxQ6w",
        "outputId": "a40bb2b3-3879-4d48-fcf1-cb951a98f283"
      },
      "execution_count": null,
      "outputs": [
        {
          "output_type": "stream",
          "name": "stdout",
          "text": [
            "family members ['venkat', 'swetha']\n",
            "family members ['venkat', 'swetha', 'dev', 'thanmai']\n"
          ]
        }
      ]
    },
    {
      "cell_type": "code",
      "source": [
        "grade=['A','A','B','C','A','B']\n",
        "print('lowest index for grade B',grade.index('B'))"
      ],
      "metadata": {
        "colab": {
          "base_uri": "https://localhost:8080/"
        },
        "id": "GbN5VCzBx4pU",
        "outputId": "dad4e4cb-cd42-495e-e900-1fe23b2dfd60"
      },
      "execution_count": null,
      "outputs": [
        {
          "output_type": "stream",
          "name": "stdout",
          "text": [
            "lowest index for grade B 2\n"
          ]
        }
      ]
    },
    {
      "cell_type": "code",
      "source": [
        "family=['ramana','swetha','thanmai','dev']\n",
        "print('family members',family)\n",
        "family.remove('ramana')\n",
        "print('family members',family)"
      ],
      "metadata": {
        "colab": {
          "base_uri": "https://localhost:8080/"
        },
        "id": "i1v6q5GMyJET",
        "outputId": "bad13968-7824-4b57-9584-7318a11236a4"
      },
      "execution_count": null,
      "outputs": [
        {
          "output_type": "stream",
          "name": "stdout",
          "text": [
            "family members ['ramana', 'swetha', 'thanmai', 'dev']\n",
            "family members ['swetha', 'thanmai', 'dev']\n"
          ]
        }
      ]
    },
    {
      "cell_type": "code",
      "source": [
        "family=['ramana','swetha','thanmai','dev']\n",
        "print('family members',family)\n",
        "family.reverse()\n",
        "print('family members',family)"
      ],
      "metadata": {
        "colab": {
          "base_uri": "https://localhost:8080/"
        },
        "id": "YjgYYBHSyvQ-",
        "outputId": "565110a3-e058-4599-9f64-2002aee3d4a8"
      },
      "execution_count": null,
      "outputs": [
        {
          "output_type": "stream",
          "name": "stdout",
          "text": [
            "family members ['ramana', 'swetha', 'thanmai', 'dev']\n",
            "family members ['dev', 'thanmai', 'swetha', 'ramana']\n"
          ]
        }
      ]
    },
    {
      "cell_type": "code",
      "source": [
        "name=['ramana','thanmai','dev']\n",
        "print('family members',name)\n",
        "name.insert(1,'swetha')\n",
        "print('family members',name)"
      ],
      "metadata": {
        "colab": {
          "base_uri": "https://localhost:8080/"
        },
        "id": "-njlW6hEzBT6",
        "outputId": "eb5b1291-a686-4162-faf2-9bedf08c1fdd"
      },
      "execution_count": null,
      "outputs": [
        {
          "output_type": "stream",
          "name": "stdout",
          "text": [
            "family members ['ramana', 'thanmai', 'dev']\n",
            "family members ['ramana', 'swetha', 'thanmai', 'dev']\n"
          ]
        }
      ]
    },
    {
      "cell_type": "code",
      "source": [
        "family=['ramana','swetha','thanmai','dev']\n",
        "print('family members',family)\n",
        "family.pop()\n",
        "print('family members',family)\n",
        "family.pop(2)\n",
        "print('family members',family)"
      ],
      "metadata": {
        "colab": {
          "base_uri": "https://localhost:8080/"
        },
        "id": "w-AQEwC9zVPz",
        "outputId": "c4e294b1-93bf-4728-8fa8-f0756e9a4791"
      },
      "execution_count": null,
      "outputs": [
        {
          "output_type": "stream",
          "name": "stdout",
          "text": [
            "family members ['ramana', 'swetha', 'thanmai', 'dev']\n",
            "family members ['ramana', 'swetha', 'thanmai']\n",
            "family members ['ramana', 'swetha']\n"
          ]
        }
      ]
    },
    {
      "cell_type": "code",
      "source": [
        "tuple=('venkat','B.tech',2006)\n",
        "print(tuple)\n",
        "print(tuple[0])\n",
        "print(tuple[0:2])\n",
        "print(tuple[0:1])\n",
        "print(tuple[::-1])\n",
        "print(tuple[2:0:-1])"
      ],
      "metadata": {
        "colab": {
          "base_uri": "https://localhost:8080/"
        },
        "id": "5UlaWWPAzsNR",
        "outputId": "f87ba40d-a727-42c4-d3a1-f7d2acca7a2a"
      },
      "execution_count": null,
      "outputs": [
        {
          "output_type": "stream",
          "name": "stdout",
          "text": [
            "('venkat', 'B.tech', 2006)\n",
            "venkat\n",
            "('venkat', 'B.tech')\n",
            "('venkat',)\n",
            "(2006, 'B.tech', 'venkat')\n",
            "(2006, 'B.tech')\n"
          ]
        }
      ]
    },
    {
      "cell_type": "code",
      "source": [
        "tiny={'name':'venkat','marks':891}\n",
        "print(tiny)\n",
        "print(tiny['name'])\n",
        "print(tiny['marks'])\n",
        "tiny['name']='ramana'\n",
        "print(tiny)"
      ],
      "metadata": {
        "id": "odXaytLS0SDy",
        "colab": {
          "base_uri": "https://localhost:8080/"
        },
        "outputId": "d8b9ed09-3b5c-4211-9532-39abdf8a6b2d"
      },
      "execution_count": 1,
      "outputs": [
        {
          "output_type": "stream",
          "name": "stdout",
          "text": [
            "{'name': 'venkat', 'marks': 891}\n",
            "venkat\n",
            "891\n",
            "{'name': 'ramana', 'marks': 891}\n"
          ]
        }
      ]
    },
    {
      "cell_type": "code",
      "source": [
        "tuple=('venkat','B.tech',2006)\n",
        "pgtuple=('M.E','2011')\n",
        "print(tuple*2)\n",
        "print(tuple+pgtuple)\n",
        "list['venkat','Ph.D','2018']\n",
        "print(list)"
      ],
      "metadata": {
        "colab": {
          "base_uri": "https://localhost:8080/"
        },
        "id": "Ux2IfRa71nke",
        "outputId": "d2d8589f-9b42-40c2-d8c7-5d9b1ac210b8"
      },
      "execution_count": 5,
      "outputs": [
        {
          "output_type": "stream",
          "name": "stdout",
          "text": [
            "('venkat', 'B.tech', 2006, 'venkat', 'B.tech', 2006)\n",
            "('venkat', 'B.tech', 2006, 'M.E', '2011')\n",
            "<class 'list'>\n"
          ]
        }
      ]
    },
    {
      "cell_type": "code",
      "source": [
        "dict={}\n",
        "print(dict)\n",
        "dict['one']='this is one'\n",
        "print(dict)\n",
        "dict['2']='this is two'\n",
        "print(dict)\n",
        "print(dict.keys())\n",
        "print(dict.values())"
      ],
      "metadata": {
        "colab": {
          "base_uri": "https://localhost:8080/"
        },
        "id": "YfDzxwU96SOb",
        "outputId": "f197c232-458a-458a-a384-9658f74a9e36"
      },
      "execution_count": 6,
      "outputs": [
        {
          "output_type": "stream",
          "name": "stdout",
          "text": [
            "{}\n",
            "{'one': 'this is one'}\n",
            "{'one': 'this is one', '2': 'this is two'}\n",
            "dict_keys(['one', '2'])\n",
            "dict_values(['this is one', 'this is two'])\n"
          ]
        }
      ]
    },
    {
      "cell_type": "code",
      "source": [
        "thisset={'apple','banana','cherry'}\n",
        "mylist=['kiwi','orange']\n",
        "mylist_2=(2,3)\n",
        "mylist_3={'name':'venkat','School':'SRU'}\n",
        "thisset.update(mylist)\n",
        "thisset.update(mylist_2)\n",
        "thisset.update(mylist_3)\n",
        "print(thisset)"
      ],
      "metadata": {
        "colab": {
          "base_uri": "https://localhost:8080/"
        },
        "id": "B1vy_2Zw6unf",
        "outputId": "7fec077d-af7c-4a57-dfbc-d78413fca630"
      },
      "execution_count": 7,
      "outputs": [
        {
          "output_type": "stream",
          "name": "stdout",
          "text": [
            "{'name', 2, 3, 'orange', 'School', 'kiwi', 'cherry', 'banana', 'apple'}\n"
          ]
        }
      ]
    },
    {
      "cell_type": "code",
      "source": [
        "thisset={'apple','banana','cherry'}\n",
        "tropical={'pineapple','mango','papaya'}\n",
        "thisset.update(tropical)\n",
        "print(thisset)"
      ],
      "metadata": {
        "colab": {
          "base_uri": "https://localhost:8080/"
        },
        "id": "UXpfFEiP7R8C",
        "outputId": "d1539fcf-a1cb-4263-dde4-10a8dfe48c8f"
      },
      "execution_count": 8,
      "outputs": [
        {
          "output_type": "stream",
          "name": "stdout",
          "text": [
            "{'mango', 'cherry', 'banana', 'papaya', 'pineapple', 'apple'}\n"
          ]
        }
      ]
    },
    {
      "cell_type": "code",
      "source": [
        "thisset={'apple','banana','cherry'}\n",
        "\n",
        "for x in thisset:\n",
        "  print(x)"
      ],
      "metadata": {
        "colab": {
          "base_uri": "https://localhost:8080/"
        },
        "id": "C6_Xwu0O788M",
        "outputId": "3386c3b9-76ca-412f-bcd6-f6fa705e5d72"
      },
      "execution_count": 10,
      "outputs": [
        {
          "output_type": "stream",
          "name": "stdout",
          "text": [
            "cherry\n",
            "banana\n",
            "apple\n"
          ]
        }
      ]
    }
  ]
}